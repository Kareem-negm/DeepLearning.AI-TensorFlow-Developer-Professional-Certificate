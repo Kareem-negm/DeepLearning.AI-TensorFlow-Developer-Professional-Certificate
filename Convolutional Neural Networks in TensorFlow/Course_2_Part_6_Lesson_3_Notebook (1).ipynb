{
  "nbformat": 4,
  "nbformat_minor": 0,
  "metadata": {
    "accelerator": "GPU",
    "colab": {
      "name": "Course 2 - Part 6 - Lesson 3 - Notebook.ipynb",
      "provenance": [],
      "collapsed_sections": [],
      "toc_visible": true
    },
    "kernelspec": {
      "display_name": "Python 3",
      "name": "python3"
    }
  },
  "cells": [
    {
      "cell_type": "markdown",
      "metadata": {
        "id": "rX8mhOLljYeM"
      },
      "source": [
        "##### Copyright 2019 The TensorFlow Authors."
      ]
    },
    {
      "cell_type": "code",
      "metadata": {
        "cellView": "form",
        "id": "BZSlp3DAjdYf"
      },
      "source": [
        "#@title Licensed under the Apache License, Version 2.0 (the \"License\");\n",
        "# you may not use this file except in compliance with the License.\n",
        "# You may obtain a copy of the License at\n",
        "#\n",
        "# https://www.apache.org/licenses/LICENSE-2.0\n",
        "#\n",
        "# Unless required by applicable law or agreed to in writing, software\n",
        "# distributed under the License is distributed on an \"AS IS\" BASIS,\n",
        "# WITHOUT WARRANTIES OR CONDITIONS OF ANY KIND, either express or implied.\n",
        "# See the License for the specific language governing permissions and\n",
        "# limitations under the License."
      ],
      "execution_count": null,
      "outputs": []
    },
    {
      "cell_type": "code",
      "metadata": {
        "colab": {
          "base_uri": "https://localhost:8080/"
        },
        "id": "1xJZ5glPPCRz",
        "outputId": "365b0429-3a42-412d-b651-e52ba3ce77f5"
      },
      "source": [
        "import os\n",
        "\n",
        "from tensorflow.keras import layers\n",
        "from tensorflow.keras import Model\n",
        "!wget --no-check-certificate \\\n",
        "    https://storage.googleapis.com/mledu-datasets/inception_v3_weights_tf_dim_ordering_tf_kernels_notop.h5 \\\n",
        "    -O /tmp/inception_v3_weights_tf_dim_ordering_tf_kernels_notop.h5\n",
        "  \n",
        "from tensorflow.keras.applications.inception_v3 import InceptionV3\n",
        "\n",
        "local_weights_file = '/tmp/inception_v3_weights_tf_dim_ordering_tf_kernels_notop.h5'\n",
        "\n",
        "pre_trained_model = InceptionV3(input_shape = (150, 150, 3), \n",
        "                                include_top = False, \n",
        "                                weights = None)\n",
        "\n",
        "pre_trained_model.load_weights(local_weights_file)\n",
        "\n",
        "for layer in pre_trained_model.layers:\n",
        "  layer.trainable = False\n",
        "  \n",
        "# pre_trained_model.summary()\n",
        "\n",
        "last_layer = pre_trained_model.get_layer('mixed7')\n",
        "print('last layer output shape: ', last_layer.output_shape)\n",
        "last_output = last_layer.output"
      ],
      "execution_count": 5,
      "outputs": [
        {
          "output_type": "stream",
          "text": [
            "--2021-01-28 15:22:20--  https://storage.googleapis.com/mledu-datasets/inception_v3_weights_tf_dim_ordering_tf_kernels_notop.h5\n",
            "Resolving storage.googleapis.com (storage.googleapis.com)... 74.125.206.128, 64.233.167.128, 64.233.166.128, ...\n",
            "Connecting to storage.googleapis.com (storage.googleapis.com)|74.125.206.128|:443... connected.\n",
            "HTTP request sent, awaiting response... 200 OK\n",
            "Length: 87910968 (84M) [application/x-hdf]\n",
            "Saving to: ‘/tmp/inception_v3_weights_tf_dim_ordering_tf_kernels_notop.h5’\n",
            "\n",
            "/tmp/inception_v3_w 100%[===================>]  83.84M   132MB/s    in 0.6s    \n",
            "\n",
            "2021-01-28 15:22:21 (132 MB/s) - ‘/tmp/inception_v3_weights_tf_dim_ordering_tf_kernels_notop.h5’ saved [87910968/87910968]\n",
            "\n",
            "last layer output shape:  (None, 7, 7, 768)\n"
          ],
          "name": "stdout"
        }
      ]
    },
    {
      "cell_type": "code",
      "metadata": {
        "id": "BMXb913pbvFg"
      },
      "source": [
        "from tensorflow.keras.optimizers import RMSprop\n",
        "\n",
        "# Flatten the output layer to 1 dimension\n",
        "x = layers.Flatten()(last_output)\n",
        "# Add a fully connected layer with 1,024 hidden units and ReLU activation\n",
        "x = layers.Dense(1024, activation='relu')(x)\n",
        "# Add a dropout rate of 0.2\n",
        "x = layers.Dropout(0.2)(x)                  \n",
        "# Add a final sigmoid layer for classification\n",
        "x = layers.Dense  (1, activation='sigmoid')(x)           \n",
        "\n",
        "model = Model( pre_trained_model.input, x) \n",
        "\n",
        "model.compile(optimizer = RMSprop(lr=0.0001), \n",
        "              loss = 'binary_crossentropy', \n",
        "              metrics = ['accuracy'])\n"
      ],
      "execution_count": null,
      "outputs": []
    },
    {
      "cell_type": "code",
      "metadata": {
        "id": "O4s8HckqGlnb"
      },
      "source": [
        "!wget --no-check-certificate \\\n",
        "        https://storage.googleapis.com/mledu-datasets/cats_and_dogs_filtered.zip \\\n",
        "       -O /tmp/cats_and_dogs_filtered.zip\n",
        "\n",
        "from tensorflow.keras.preprocessing.image import ImageDataGenerator\n",
        "\n",
        "import os\n",
        "import zipfile\n",
        "\n",
        "local_zip = '//tmp/cats_and_dogs_filtered.zip'\n",
        "\n",
        "zip_ref = zipfile.ZipFile(local_zip, 'r')\n",
        "\n",
        "zip_ref.extractall('/tmp')\n",
        "zip_ref.close()\n",
        "\n",
        "# Define our example directories and files\n",
        "base_dir = '/tmp/cats_and_dogs_filtered'\n",
        "\n",
        "train_dir = os.path.join( base_dir, 'train')\n",
        "validation_dir = os.path.join( base_dir, 'validation')\n",
        "\n",
        "\n",
        "train_cats_dir = os.path.join(train_dir, 'cats') # Directory with our training cat pictures\n",
        "train_dogs_dir = os.path.join(train_dir, 'dogs') # Directory with our training dog pictures\n",
        "validation_cats_dir = os.path.join(validation_dir, 'cats') # Directory with our validation cat pictures\n",
        "validation_dogs_dir = os.path.join(validation_dir, 'dogs')# Directory with our validation dog pictures\n",
        "\n",
        "train_cat_fnames = os.listdir(train_cats_dir)\n",
        "train_dog_fnames = os.listdir(train_dogs_dir)\n",
        "\n",
        "# Add our data-augmentation parameters to ImageDataGenerator\n",
        "train_datagen = ImageDataGenerator(rescale = 1./255.,\n",
        "                                   rotation_range = 40,\n",
        "                                   width_shift_range = 0.2,\n",
        "                                   height_shift_range = 0.2,\n",
        "                                   shear_range = 0.2,\n",
        "                                   zoom_range = 0.2,\n",
        "                                   horizontal_flip = True)\n",
        "\n",
        "# Note that the validation data should not be augmented!\n",
        "test_datagen = ImageDataGenerator( rescale = 1.0/255. )\n",
        "\n",
        "# Flow training images in batches of 20 using train_datagen generator\n",
        "train_generator = train_datagen.flow_from_directory(train_dir,\n",
        "                                                    batch_size = 20,\n",
        "                                                    class_mode = 'binary', \n",
        "                                                    target_size = (150, 150))     \n",
        "\n",
        "# Flow validation images in batches of 20 using test_datagen generator\n",
        "validation_generator =  test_datagen.flow_from_directory( validation_dir,\n",
        "                                                          batch_size  = 20,\n",
        "                                                          class_mode  = 'binary', \n",
        "                                                          target_size = (150, 150))"
      ],
      "execution_count": null,
      "outputs": []
    },
    {
      "cell_type": "code",
      "metadata": {
        "colab": {
          "base_uri": "https://localhost:8080/"
        },
        "id": "Blhq2MAUeyGA",
        "outputId": "99b58e26-579c-4725-9fe8-ec5c75985430"
      },
      "source": [
        "history = model.fit(\n",
        "            train_generator,\n",
        "            validation_data = validation_generator,\n",
        "            steps_per_epoch = 100,\n",
        "            epochs = 20,\n",
        "            validation_steps = 50,\n",
        "            verbose = 2)"
      ],
      "execution_count": 4,
      "outputs": [
        {
          "output_type": "stream",
          "text": [
            "Epoch 1/20\n",
            "100/100 - 33s - loss: 0.3455 - accuracy: 0.8720 - val_loss: 0.1159 - val_accuracy: 0.9520\n",
            "Epoch 2/20\n",
            "100/100 - 22s - loss: 0.2423 - accuracy: 0.9065 - val_loss: 0.1036 - val_accuracy: 0.9600\n",
            "Epoch 3/20\n",
            "100/100 - 22s - loss: 0.2184 - accuracy: 0.9220 - val_loss: 0.1014 - val_accuracy: 0.9670\n",
            "Epoch 4/20\n",
            "100/100 - 22s - loss: 0.1957 - accuracy: 0.9335 - val_loss: 0.1147 - val_accuracy: 0.9590\n",
            "Epoch 5/20\n",
            "100/100 - 22s - loss: 0.1608 - accuracy: 0.9455 - val_loss: 0.1201 - val_accuracy: 0.9680\n",
            "Epoch 6/20\n",
            "100/100 - 22s - loss: 0.2082 - accuracy: 0.9330 - val_loss: 0.1126 - val_accuracy: 0.9700\n",
            "Epoch 7/20\n",
            "100/100 - 22s - loss: 0.1692 - accuracy: 0.9385 - val_loss: 0.1287 - val_accuracy: 0.9670\n",
            "Epoch 8/20\n",
            "100/100 - 22s - loss: 0.1689 - accuracy: 0.9370 - val_loss: 0.1241 - val_accuracy: 0.9620\n",
            "Epoch 9/20\n",
            "100/100 - 22s - loss: 0.1621 - accuracy: 0.9450 - val_loss: 0.1186 - val_accuracy: 0.9700\n",
            "Epoch 10/20\n",
            "100/100 - 22s - loss: 0.1542 - accuracy: 0.9455 - val_loss: 0.1419 - val_accuracy: 0.9650\n",
            "Epoch 11/20\n",
            "100/100 - 22s - loss: 0.1733 - accuracy: 0.9450 - val_loss: 0.1523 - val_accuracy: 0.9610\n",
            "Epoch 12/20\n",
            "100/100 - 22s - loss: 0.1473 - accuracy: 0.9535 - val_loss: 0.1420 - val_accuracy: 0.9640\n",
            "Epoch 13/20\n",
            "100/100 - 21s - loss: 0.1422 - accuracy: 0.9535 - val_loss: 0.1381 - val_accuracy: 0.9650\n",
            "Epoch 14/20\n",
            "100/100 - 22s - loss: 0.1920 - accuracy: 0.9380 - val_loss: 0.1218 - val_accuracy: 0.9640\n",
            "Epoch 15/20\n",
            "100/100 - 21s - loss: 0.1590 - accuracy: 0.9455 - val_loss: 0.1047 - val_accuracy: 0.9680\n",
            "Epoch 16/20\n",
            "100/100 - 22s - loss: 0.1408 - accuracy: 0.9550 - val_loss: 0.1084 - val_accuracy: 0.9660\n",
            "Epoch 17/20\n",
            "100/100 - 21s - loss: 0.1386 - accuracy: 0.9510 - val_loss: 0.1151 - val_accuracy: 0.9690\n",
            "Epoch 18/20\n",
            "100/100 - 21s - loss: 0.1170 - accuracy: 0.9590 - val_loss: 0.1145 - val_accuracy: 0.9710\n",
            "Epoch 19/20\n",
            "100/100 - 22s - loss: 0.1246 - accuracy: 0.9620 - val_loss: 0.1517 - val_accuracy: 0.9640\n",
            "Epoch 20/20\n",
            "100/100 - 22s - loss: 0.1356 - accuracy: 0.9580 - val_loss: 0.1353 - val_accuracy: 0.9630\n"
          ],
          "name": "stdout"
        }
      ]
    },
    {
      "cell_type": "code",
      "metadata": {
        "id": "C2Fp6Se9rKuL"
      },
      "source": [
        "import matplotlib.pyplot as plt\n",
        "acc = history.history['accuracy']\n",
        "val_acc = history.history['val_accuracy']\n",
        "loss = history.history['loss']\n",
        "val_loss = history.history['val_loss']\n",
        "\n",
        "epochs = range(len(acc))\n",
        "\n",
        "plt.plot(epochs, acc, 'r', label='Training accuracy')\n",
        "plt.plot(epochs, val_acc, 'b', label='Validation accuracy')\n",
        "plt.title('Training and validation accuracy')\n",
        "plt.legend(loc=0)\n",
        "plt.figure()\n",
        "\n",
        "\n",
        "plt.show()"
      ],
      "execution_count": null,
      "outputs": []
    }
  ]
}